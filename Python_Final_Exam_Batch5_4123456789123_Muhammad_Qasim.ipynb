{
  "cells": [
    {
      "cell_type": "markdown",
      "metadata": {
        "id": "S6aX5GSQkdqk"
      },
      "source": [
        "# NED University of Engineering & Technology\n",
        "# NED Academy\n",
        "#  PGD Batch 5 Data Science Final Exam (Online & Hybrid Mode Students)"
      ]
    },
    {
      "cell_type": "markdown",
      "metadata": {
        "id": "n-FwP1uqkdqm"
      },
      "source": [
        "### Note: must Replace CNIC and Name\n",
        "\n",
        "Example:<br>\n",
        "    \n",
        "Midterm_4123456789123_Muhammad_Qasim"
      ]
    },
    {
      "cell_type": "markdown",
      "metadata": {
        "id": "tKlgjyHskdqm"
      },
      "source": [
        "### Final Exame tips:\n",
        "* Paper timing: 3 Hours\n",
        "* Total Questions 20 you have to attempt all below tasks\n",
        "    * 5 questions are theoritical\n",
        "    * 15 are practical tasks\n",
        "* you can use any logic to achieve below tasks results\n",
        "* there is not any negative marking\n"
      ]
    },
    {
      "cell_type": "markdown",
      "metadata": {
        "id": "cjZv9K1ukdqm"
      },
      "source": [
        "## Task1:\n",
        "    Names: Store the names of a few of your friends in a list called `names`. Print each person’s name and index number each element in the list, one at a time.\n",
        "    \n",
        "```\n",
        "Expected output:\n",
        "\n",
        "['Qasim','Hamza','Asif']\n",
        "\n",
        "0 , Qasim\n",
        "1 , Hamza\n",
        "2 , Asif\n",
        "```\n",
        "\n",
        "#### hint: enu...te()"
      ]
    },
    {
      "cell_type": "code",
      "execution_count": null,
      "metadata": {
        "id": "Z_Uyb_fOkdqm"
      },
      "outputs": [],
      "source": []
    },
    {
      "cell_type": "markdown",
      "metadata": {
        "id": "LT5Bxr3Ykdqn"
      },
      "source": [
        "## Task2:\n",
        "Store your 3 friends names in `names` list<br>\n",
        "Store three messages in `messages` list<br>\n",
        "then print each friend and message from friends and messages lists\n",
        "    \n",
        "```\n",
        "Expected output:\n",
        "\n",
        "['Qasim','Hamza','Asif']\n",
        "['Welcome Dear Teacher','Charter Accountant',\"Good job Admin\"]\n",
        "\n",
        "'Qasim, Welcome Dear Teacher'\n",
        "'Hamza, Charter Accountant'\n",
        "'Asif, Good job Admin'\n",
        "\n",
        "```\n",
        "\n",
        "#### hint: z..p()"
      ]
    },
    {
      "cell_type": "code",
      "execution_count": null,
      "metadata": {
        "id": "i7DE3ggmkdqn"
      },
      "outputs": [],
      "source": []
    },
    {
      "cell_type": "markdown",
      "metadata": {
        "id": "qJpfb8ulkdqn"
      },
      "source": [
        "### Task3:\n",
        "Guest List: If you could invite anyone, living or deceased, to dinner, who would you invite? Make a list that includes at least three people you’d like to invite to dinner. Then use your list to print a message to each person, inviting them to dinner."
      ]
    },
    {
      "cell_type": "code",
      "execution_count": null,
      "metadata": {
        "id": "EgKs-pbKkdqo"
      },
      "outputs": [],
      "source": []
    },
    {
      "cell_type": "markdown",
      "metadata": {
        "id": "jCd22z68kdqo"
      },
      "source": [
        "### Task4:\n",
        "Changing Guest List: You just heard that one of your guests can’t make the dinner, so you need to send out a new set of invitations. You’ll have to think of someone else to invite.\n",
        "\n",
        "* Start with your program from Task 3. Add a print statement at the end of your program stating the name of the guest who can’t make it.\n",
        "\n",
        "* Modify your list, replacing the name of the guest who can’t make it with the name of the new person you are inviting.\n",
        "\n",
        "* Print a second set of invitation messages, one for each person who is still in your list."
      ]
    },
    {
      "cell_type": "code",
      "execution_count": null,
      "metadata": {
        "id": "PkopbwMTkdqo"
      },
      "outputs": [],
      "source": []
    },
    {
      "cell_type": "markdown",
      "metadata": {
        "id": "yaqsH8skkdqo"
      },
      "source": [
        "### Task5:\n",
        "More Guests: You just found a bigger dinner table, so now more space is available. Think of three more guests to invite to dinner.\n",
        "* Start with your program from task4. Add a print statement to the end of your program informing people that you found a bigger dinner table.\n",
        "* Add one new guest to the beginning of your array(list).\n",
        "\n",
        "* Add one new guest to the middle of your array.\n",
        "* Use append() to add one new guest to the end of your list.\n",
        "* Print a new set of invitation messages, one for each person in your list."
      ]
    },
    {
      "cell_type": "code",
      "execution_count": null,
      "metadata": {
        "id": "G4XTS-MGkdqo"
      },
      "outputs": [],
      "source": []
    },
    {
      "cell_type": "markdown",
      "metadata": {
        "id": "9Qz28Az2kdqo"
      },
      "source": [
        "### Task6:\n",
        "Intentional Error: If you haven’t received an array index error in one of your programs yet, try to make one happen. Change an index in one of your programs to produce an index error. Make sure you correct the error before closing the program.    "
      ]
    },
    {
      "cell_type": "code",
      "execution_count": null,
      "metadata": {
        "id": "g4kclHaBkdqo"
      },
      "outputs": [],
      "source": []
    },
    {
      "cell_type": "markdown",
      "metadata": {
        "id": "QiZ5xXYvkdqo"
      },
      "source": [
        "### Task7\n",
        "Conditional Tests: Write a series of conditional tests. Print a statement describing each test and your prediction for the results of each test. Your code should look something like this:\n",
        "\n",
        "```\n",
        "car = 'BMW'\n",
        "print(\"Is car == 'BMW'? I predict True.\")\n",
        "print(car == 'subaru')\n",
        "```\n",
        "\n",
        "* Look closely at your results, and make sure you understand why each line evaluates to True or False.\n",
        "\n",
        "* Create at least 10 tests. Have at least 5 tests evaluate to True and another 5 tests evaluate to False.\n",
        "\n",
        "\n",
        "    "
      ]
    },
    {
      "cell_type": "code",
      "execution_count": null,
      "metadata": {
        "id": "btdrROrokdqp"
      },
      "outputs": [],
      "source": []
    },
    {
      "cell_type": "markdown",
      "metadata": {
        "id": "F55eQzTskdqp"
      },
      "source": [
        "### Task8:\n",
        "More Conditional Tests: You don’t have to limit the number of tests you create to 10. If you want to try more comparisons, write more tests. Have at least one True and one False result for each of the following:\n",
        "\n",
        "* Tests for equality and inequality with strings\n",
        "\n",
        "* Tests using the lower case function\n",
        "\n",
        "* Numerical tests involving equality and inequality, greater than and less than, greater than or equal to, and less than or equal to\n",
        "\n",
        "* Tests using \"and\" and \"or\" operators\n",
        "\n",
        "* Test whether an item is in a list\n",
        "\n",
        "* Test whether an item is not in a list"
      ]
    },
    {
      "cell_type": "code",
      "execution_count": null,
      "metadata": {
        "id": "ZuzFar-xkdqp"
      },
      "outputs": [],
      "source": []
    },
    {
      "cell_type": "markdown",
      "metadata": {
        "id": "-ERrZopbkdqp"
      },
      "source": [
        "### Task9:\n",
        "Hello Admin: Make a list of five or more usernames, including the name 'admin'. Imagine you are writing code that will print a greeting to each user after they log in to a website. Loop through the list, and print a greeting to each user:\n",
        "* If the username is 'admin', print a special greeting, such as Hello admin, would you like to see a status report?\n",
        "\n",
        "* Otherwise, print a generic greeting, such as Hello Eric, thank you for logging in again.    "
      ]
    },
    {
      "cell_type": "code",
      "execution_count": null,
      "metadata": {
        "id": "z51Cc92qkdqp"
      },
      "outputs": [],
      "source": []
    },
    {
      "cell_type": "markdown",
      "metadata": {
        "id": "tCNLZNHikdqp"
      },
      "source": [
        "### Task10:\n",
        "Checking Usernames: Do the following to create a program that simulates how websites ensure that everyone has a unique username.\n",
        "* Make a list of five or more usernames called current_users.\n",
        "\n",
        "* Make another list of five usernames called new_users. Make sure one or two of the new usernames are also in the current_users list.\n",
        "\n",
        "* Loop through the new_users list to see if each new username has already been used. If it has, print a message that the person will need to enter a new username. If a username has not been used, print a message saying that the username is available.\n",
        "\n",
        "* Make sure your comparison is case insensitive. If 'John' has been used, 'JOHN' should not be accepted.    "
      ]
    },
    {
      "cell_type": "code",
      "execution_count": null,
      "metadata": {
        "id": "c47GTO1Tkdqp"
      },
      "outputs": [],
      "source": []
    },
    {
      "cell_type": "markdown",
      "metadata": {
        "id": "yKlriswzkdqp"
      },
      "source": [
        "### Task11:\n",
        "Ordinal Numbers: Ordinal numbers indicate their position in a array, such as 1st or 2nd. Most ordinal numbers end in th, except 1, 2, and 3.\n",
        "* Store the numbers 1 through 9 in a array.\n",
        "\n",
        "* Loop through the array.\n",
        "\n",
        "* Use an if-else chain inside the loop to print the proper ordinal ending for each number. Your output should read \"1st 2nd 3rd 4th 5th 6th 7th 8th 9th\", and each result should be on a separate line.\n",
        "\n"
      ]
    },
    {
      "cell_type": "code",
      "execution_count": null,
      "metadata": {
        "id": "GcJifmTtkdqp"
      },
      "outputs": [],
      "source": []
    },
    {
      "cell_type": "markdown",
      "metadata": {
        "id": "Z-i9D_T9kdqp"
      },
      "source": [
        "### Task12:\n",
        "Animals: Think of at least three different animals that have a common characteristic. Store the names of these animals in a list, and then use a for loop to print out the name of each animal.\n",
        "* Modify your program to print a statement about each animal, such as A dog would make a great pet.\n",
        "* Add a line at the end of your program stating what these animals have in common. You could print a sentence such as Any of these animals would make a great pet!"
      ]
    },
    {
      "cell_type": "code",
      "execution_count": null,
      "metadata": {
        "id": "M8cyBU3bkdqp"
      },
      "outputs": [],
      "source": []
    },
    {
      "cell_type": "markdown",
      "metadata": {
        "id": "hBKGoH_Nkdqp"
      },
      "source": [
        "### Task13:\n",
        "City Names: Write a function called `city_country()` that takes in the name of a city and its country. The function should return a string formatted like this:\n",
        "\n",
        "`\"Lahore, Pakistan\"`<br><br>\n",
        "Call your function with at least three city-country pairs, and print the value that’s returned."
      ]
    },
    {
      "cell_type": "code",
      "execution_count": null,
      "metadata": {
        "id": "wsMmQqslkdqp"
      },
      "outputs": [],
      "source": []
    },
    {
      "cell_type": "markdown",
      "metadata": {
        "id": "2b0keHKFkdqp"
      },
      "source": [
        "### Task14:\n",
        "Write a function called `make_tshirt()` where you can provide `size` and `custome_text`. The function should print a sentence summarizing the size of the shirt and the message printed on it. Call the function."
      ]
    },
    {
      "cell_type": "code",
      "execution_count": null,
      "metadata": {
        "id": "jK4NRvjIkdqp"
      },
      "outputs": [],
      "source": []
    },
    {
      "cell_type": "markdown",
      "metadata": {
        "id": "0V3zOAyfkdqp"
      },
      "source": [
        "### Task15:\n",
        "Write a function called `describe_city()` that accepts the name of a `city` and its `country`. The function should print a simple sentence, such as `Karachi is in Pakistan`. Give the parameter for the country a default value. Call your function for three different cities, at least one of which is not in the default country."
      ]
    },
    {
      "cell_type": "code",
      "execution_count": null,
      "metadata": {
        "id": "nm3eU-Wskdqp"
      },
      "outputs": [],
      "source": []
    },
    {
      "cell_type": "markdown",
      "metadata": {
        "id": "GOYrKfKvkdqp"
      },
      "source": [
        "<hr>"
      ]
    },
    {
      "cell_type": "markdown",
      "metadata": {
        "id": "BHLnWmFGkdqq"
      },
      "source": [
        "# Theory Section"
      ]
    },
    {
      "cell_type": "markdown",
      "metadata": {
        "id": "vbplZrcgkdqq"
      },
      "source": [
        "# 16. Define functions and function types in python?"
      ]
    },
    {
      "cell_type": "code",
      "execution_count": null,
      "metadata": {
        "id": "Of3Kfy9Okdqq"
      },
      "outputs": [],
      "source": []
    },
    {
      "cell_type": "markdown",
      "metadata": {
        "id": "iwBdO157kdqq"
      },
      "source": [
        "# 17. Define loop and it types in python?"
      ]
    },
    {
      "cell_type": "code",
      "execution_count": null,
      "metadata": {
        "id": "Prw6fvh5kdqq"
      },
      "outputs": [],
      "source": []
    },
    {
      "cell_type": "markdown",
      "metadata": {
        "id": "1N_KslG8kdqq"
      },
      "source": [
        "# 18. Define Error types and how we can handle run time errors?"
      ]
    },
    {
      "cell_type": "code",
      "execution_count": null,
      "metadata": {
        "id": "LwMApoYWkdqq"
      },
      "outputs": [],
      "source": []
    },
    {
      "cell_type": "markdown",
      "metadata": {
        "id": "5u-YAz4mkdqq"
      },
      "source": [
        "# 19. Define four pillars of Object Oriented Programming?"
      ]
    },
    {
      "cell_type": "code",
      "execution_count": null,
      "metadata": {
        "id": "6Ea3NOT4kdqq"
      },
      "outputs": [],
      "source": []
    },
    {
      "cell_type": "markdown",
      "metadata": {
        "id": "OmiTc2Ipkdqq"
      },
      "source": [
        "# 20. You can write about how you can use python in professional life. If you used python in your Office to solve any real-world probem."
      ]
    },
    {
      "cell_type": "code",
      "execution_count": null,
      "metadata": {
        "id": "fGle3ja2kdqq"
      },
      "outputs": [],
      "source": []
    }
  ],
  "metadata": {
    "kernelspec": {
      "display_name": "Python 3 (ipykernel)",
      "language": "python",
      "name": "python3"
    },
    "language_info": {
      "codemirror_mode": {
        "name": "ipython",
        "version": 3
      },
      "file_extension": ".py",
      "mimetype": "text/x-python",
      "name": "python",
      "nbconvert_exporter": "python",
      "pygments_lexer": "ipython3",
      "version": "3.9.7"
    },
    "colab": {
      "provenance": []
    }
  },
  "nbformat": 4,
  "nbformat_minor": 0
}